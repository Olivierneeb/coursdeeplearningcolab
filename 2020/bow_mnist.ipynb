{
  "nbformat": 4,
  "nbformat_minor": 0,
  "metadata": {
    "colab": {
      "name": "Untitled6.ipynb",
      "provenance": [],
      "collapsed_sections": [],
      "include_colab_link": true
    },
    "kernelspec": {
      "name": "python3",
      "display_name": "Python 3"
    },
    "accelerator": "GPU"
  },
  "cells": [
    {
      "cell_type": "markdown",
      "metadata": {
        "id": "view-in-github",
        "colab_type": "text"
      },
      "source": [
        "<a href=\"https://colab.research.google.com/github/achanhon/coursdeeplearningcolab/blob/master/bow_mnist.ipynb\" target=\"_parent\"><img src=\"https://colab.research.google.com/assets/colab-badge.svg\" alt=\"Open In Colab\"/></a>"
      ]
    },
    {
      "cell_type": "markdown",
      "metadata": {
        "id": "UTUF2gpAcOr5"
      },
      "source": [
        "# TP Sac de mot\n",
        "\n",
        "L'objectif de ce tp est de coder une approche sac de mots : c'est ce qu'on faisait de mieux **avant** le deep learning.\n",
        "\n",
        "\n",
        "On va réutiliser MNIST que vous connaissez désormais.\n"
      ]
    },
    {
      "cell_type": "markdown",
      "metadata": {
        "id": "UGNwRuVjdE5W"
      },
      "source": [
        "## Création d'un dictionnaire\n",
        "\n",
        "On va extraire un ensemble dense de patch dans des images MNIST et appliquer K moyenne dessus, cela nous donnera un dictionnaire de patches !\n",
        "\n",
        "D'abord récupérons MNIST (avec torchvision -- juste par faciliter mais ce n'est pas pertinent)."
      ]
    },
    {
      "cell_type": "code",
      "metadata": {
        "id": "ouvhsCnwdPgm"
      },
      "source": [
        "import torch\n",
        "import torchvision\n",
        "transform_mnist = torchvision.transforms.Compose([\n",
        "    torchvision.transforms.Resize((32,32)),\n",
        "    torchvision.transforms.ToTensor()\n",
        "])\n",
        "mnisttrain = torchvision.datasets.MNIST(\"./mnist\",train=True, transform=transform_mnist, download=True)\n",
        "trainloader = torch.utils.data.DataLoader(mnisttrain, batch_size=64, shuffle=True, num_workers=2)\n",
        "mnisttest = torchvision.datasets.MNIST(\"./mnist\",train=False, transform=transform_mnist, download=True)\n",
        "testloader = torch.utils.data.DataLoader(mnisttest, batch_size=64, shuffle=True, num_workers=2)\n",
        "\n",
        "import matplotlib.pyplot as plt\n",
        "import numpy as np\n",
        "def show(img):\n",
        "    npimg = img.numpy()\n",
        "    plt.imshow(np.transpose(npimg, (1,2,0)), interpolation='nearest')\n",
        "\n",
        "sample = next(iter(trainloader))[0]\n",
        "show(torchvision.utils.make_grid(sample))\n",
        "print(sample.shape)  ## 64 c'est le batch\n",
        "                        ## 1 c'est du gris -- sinon ce serait 3 pour du RGB\n",
        "                        ## 32x32 c'est pour la taille de l'image (petite ici)"
      ],
      "execution_count": null,
      "outputs": []
    },
    {
      "cell_type": "markdown",
      "metadata": {
        "id": "6gNOHjffefzg"
      },
      "source": [
        "**Q1** (moyen) : écrire une fonction qui extrait des patch 8x8 dans une image, les transforme en vecteur (flatten) et les mets dans une liste donnée en argument"
      ]
    },
    {
      "cell_type": "code",
      "metadata": {
        "id": "GBPJ5pdmdghW"
      },
      "source": [
        "def extraitpatch2D(allpatch,inputs):\n",
        "  print(\"TODO\")\n",
        "\n",
        "def extraitpatchinbatch(allpatch,inputs):\n",
        "  for i in range(inputs.shape[0]):\n",
        "      extraitpatch2D(allpatch,inputs[i][0])"
      ],
      "execution_count": null,
      "outputs": []
    },
    {
      "cell_type": "markdown",
      "metadata": {
        "id": "iauL3XSqfISU"
      },
      "source": [
        "**ATTENTION :** en fait c'est vraiment consommateur de ressource d'extraire autant de patches...\n",
        "\n",
        "On vous fourniera une version qui tire au hasard des patchs à extraire (et qui repasse en numpy).\n",
        "\n",
        "**Q2 (facile)** : visualiser 64 patchs tirés au hasard et/ou les patchs extraits d'une image unique. Chacun apporte une information \"faible\" mais dans leur ensemble, on espère qu'ils encodent l'image."
      ]
    },
    {
      "cell_type": "code",
      "metadata": {
        "id": "a6CxcGFzCord"
      },
      "source": [
        "print(\"TODO\")"
      ],
      "execution_count": null,
      "outputs": []
    },
    {
      "cell_type": "markdown",
      "metadata": {
        "id": "A0VqQCfVEhYr"
      },
      "source": [
        "**Q3 (facile)** Parcourer le dataset de train pour extraire l'ensemble (avec prunning) des patchs de l'ensemble des images (normalement on utilise train **ET** test mais bon)"
      ]
    },
    {
      "cell_type": "code",
      "metadata": {
        "id": "a5GqZNlohsM3"
      },
      "source": [
        "allpatch = []\n",
        "print(\"TODO\")"
      ],
      "execution_count": null,
      "outputs": []
    },
    {
      "cell_type": "markdown",
      "metadata": {
        "id": "hhlChYqxFjl8"
      },
      "source": [
        "**Q4 (moyen)** : Appliquer sklearn.cluster.KMeans pour créer un dictionnaire de 2048 clusters\n",
        "\n",
        "https://scikit-learn.org/stable/modules/generated/sklearn.cluster.KMeans.html\n"
      ]
    },
    {
      "cell_type": "code",
      "metadata": {
        "id": "EFrKO733GDrR"
      },
      "source": [
        "print(\"TODO\")"
      ],
      "execution_count": null,
      "outputs": []
    },
    {
      "cell_type": "markdown",
      "metadata": {
        "id": "plvLXR2-GH5B"
      },
      "source": [
        "## Encodage\n",
        "\n",
        "L'objectif maintenant est d'utiliser le dictionnaire pour créer une fonction qui prend une image en entrée et qui produit un histogramme H avec h_i qui correspond au nombre de fois qu'on a vu un patch qui se rattache au groupe \"i\" du dictionnaire !\n",
        "\n",
        "cette fois on extraira tous les patchs -- vu que de toute façon on va juste en conserver leur index\n"
      ]
    },
    {
      "cell_type": "code",
      "metadata": {
        "id": "i6GqksktIDKe"
      },
      "source": [
        "def extractallpatch(image):\n",
        "  out = []\n",
        "  for row in range(image.shape[0]-8):\n",
        "    for col in range(image.shape[1]-8):\n",
        "        out.append(image[row:row+8,col:col+8].copy().flatten())\n",
        "  return out"
      ],
      "execution_count": null,
      "outputs": []
    },
    {
      "cell_type": "markdown",
      "metadata": {
        "id": "wjYSI67oICOK"
      },
      "source": [
        "\n",
        "**Q5 (moyen)** : regarder l'exemple donnée dans la doc de scikit -- il vous permet de voir comment avoir le label associé à un patch\n",
        "\n",
        "écrire une fonction qui prend 1 image et produit l'histogramme associé"
      ]
    },
    {
      "cell_type": "code",
      "metadata": {
        "id": "uOY5DzQmIurp"
      },
      "source": [
        "def encodeimage(image):\n",
        "  print(\"TODO\")"
      ],
      "execution_count": null,
      "outputs": []
    },
    {
      "cell_type": "markdown",
      "metadata": {
        "id": "xYQNyKpJVdQT"
      },
      "source": [
        "**Q6 (facile)** : visualiser des patchs ayant le même label (pour 2 ou 3 labels)\n",
        "\n",
        "le résultat des kmeans vous parait il pertinent ?"
      ]
    },
    {
      "cell_type": "code",
      "metadata": {
        "id": "D-Ys7PxCWLF3"
      },
      "source": [
        "print(\"TODO\")"
      ],
      "execution_count": null,
      "outputs": []
    },
    {
      "cell_type": "markdown",
      "metadata": {
        "id": "ZNWsXptRI4V5"
      },
      "source": [
        "## Classification\n",
        "\n",
        "**Q7 (dur voire BONUS)** : parcourir l'ensemble du dataset de train, produire et stocker l'ensemble des histogrammes, puis apprendre un MLP (2 couches) ou arbre ou SVM sur ces histogrammes -> utiliser plutôt des classifiers scikit learn \n",
        "\n",
        "https://scikit-learn.org/stable/modules/generated/sklearn.svm.LinearSVC.html#sklearn.svm.LinearSVC\n",
        "\n",
        "https://scikit-learn.org/stable/modules/tree.html#classification\n",
        "\n",
        "https://scikit-learn.org/stable/modules/neural_networks_supervised.html#classification\n",
        "\n",
        "\n",
        "Puis utiliser ce classifier sur les données de test -- (qu'il convient d'encoder au préalable)"
      ]
    },
    {
      "cell_type": "code",
      "metadata": {
        "id": "JRmPiA6pUg7O"
      },
      "source": [
        "print(\"TODO\")"
      ],
      "execution_count": null,
      "outputs": []
    }
  ]
}
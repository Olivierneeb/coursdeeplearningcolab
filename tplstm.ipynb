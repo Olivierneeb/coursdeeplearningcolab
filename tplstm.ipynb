{
  "nbformat": 4,
  "nbformat_minor": 0,
  "metadata": {
    "colab": {
      "name": "tplstm.ipynb",
      "version": "0.3.2",
      "provenance": [],
      "collapsed_sections": [],
      "include_colab_link": true
    },
    "kernelspec": {
      "name": "python3",
      "display_name": "Python 3"
    }
  },
  "cells": [
    {
      "cell_type": "markdown",
      "metadata": {
        "id": "view-in-github",
        "colab_type": "text"
      },
      "source": [
        "<a href=\"https://colab.research.google.com/github/achanhon/coursdeeplearningcolab/blob/master/tplstm.ipynb\" target=\"_parent\"><img src=\"https://colab.research.google.com/assets/colab-badge.svg\" alt=\"Open In Colab\"/></a>"
      ]
    },
    {
      "metadata": {
        "id": "sX-k16KRvZiY",
        "colab_type": "text"
      },
      "cell_type": "markdown",
      "source": [
        "TP LSTM\n",
        "\n",
        "la liste des paquets nécessaires au programme\n"
      ]
    },
    {
      "metadata": {
        "id": "Lbev5unYvOVG",
        "colab_type": "code",
        "colab": {}
      },
      "cell_type": "code",
      "source": [
        "from __future__ import print_function\n",
        "import os\n",
        "import sys\n",
        "\n",
        "import numpy as np\n",
        "import random\n",
        "\n",
        "import torch\n",
        "import torch.nn as nn\n",
        "import torch.nn.functional as F\n",
        "import torch.optim as optim\n",
        "import torch.autograd\n",
        "import torch.autograd.variable\n",
        "\n",
        "from matplotlib import pyplot as plt"
      ],
      "execution_count": 0,
      "outputs": []
    },
    {
      "metadata": {
        "id": "Z0pCycDRvszu",
        "colab_type": "text"
      },
      "cell_type": "markdown",
      "source": [
        "définition d'un générateur aléatoire de signaux :  \n",
        "* classe 0 -> rampe décroissante\n",
        "* classe 1 -> constante\n",
        "* classe 2 -> rampe croissante\n",
        "\n",
        "auquel on ajoute un bruit uniforme de grande intensité\n",
        "\n",
        "**l'objectif est d'être capable de prédire en chaque point s'il fait parti de la classe 0, 1 ou 2 (sachant qu'il y a des ambiguités à cause du bruit)**"
      ]
    },
    {
      "metadata": {
        "id": "xoNyIVQP0ONI",
        "colab_type": "code",
        "colab": {}
      },
      "cell_type": "code",
      "source": [
        "N = 5\n",
        "T = 400\n",
        "def generateSample():\n",
        "    #generating gt and corresponding\n",
        "    y = np.zeros((T,N),dtype=int)\n",
        "    signal = np.zeros((T,N,1),dtype=int)\n",
        "    for n in range(N):\n",
        "        t=1\n",
        "        while t<T:\n",
        "            Dt = random.randint(10,40)\n",
        "            classe = random.randint(0,2)\n",
        "            while y[t-1][n]==classe and classe!=1:\n",
        "                classe = random.randint(0,2)    \n",
        "            for dt in range(Dt):\n",
        "                if t+dt<T:\n",
        "                    y[t+dt][n] = classe\n",
        "                    signal[t+dt][n][0] = (dt+1)*(classe-1)\n",
        "            t+=Dt\n",
        "    \n",
        "    #generating pure noise          \n",
        "    x = np.random.randint(-6,7,size=(T,N,1))\n",
        "\n",
        "    #adding the signal\n",
        "    x += signal\n",
        "    x = np.maximum(x,np.ones((T,N,1),dtype=int)*(-20))\n",
        "    x = np.minimum(x,np.ones((T,N,1),dtype=int)*19)\n",
        "    x += 20\n",
        "    \n",
        "    return x,y\n"
      ],
      "execution_count": 0,
      "outputs": []
    },
    {
      "metadata": {
        "id": "pIdprpjM1rxX",
        "colab_type": "text"
      },
      "cell_type": "markdown",
      "source": [
        "fonction de visualisation des signaux - de la classe et de la prédiction \n",
        "* vert pour la classe 0\n",
        "* bleu pour la classe 1\n",
        "* rose pour la classe 2"
      ]
    },
    {
      "metadata": {
        "id": "mdPJdl-615FO",
        "colab_type": "code",
        "colab": {}
      },
      "cell_type": "code",
      "source": [
        "def visualizecurve(x,y,z):\n",
        "    grid = np.ones((40*N,T,3),dtype=int)*255\n",
        "\n",
        "    for n in range(N):\n",
        "        for t in range(T):\n",
        "            if y[t][n]==0:\n",
        "                grid[40*n:40*n+20,t,:] = np.asarray([207,236,207])\n",
        "            if y[t][n]==1:\n",
        "                grid[40*n:40*n+20,t,:] = np.asarray([204,236,239])\n",
        "            if y[t][n]==2:\n",
        "                grid[40*n:40*n+20,t,:] = np.asarray([221,212,232])\n",
        "                \n",
        "            if z[t][n]==0:\n",
        "                grid[40*n+20:40*n+40,t,:] = np.asarray([207,236,207])\n",
        "            if z[t][n]==1:\n",
        "                grid[40*n+20:40*n+40,t,:] = np.asarray([204,236,239])\n",
        "            if z[t][n]==2:\n",
        "                grid[40*n+20:40*n+40,t,:] = np.asarray([221,212,232])\n",
        "            \n",
        "            grid[40*n+x[t][n]][t] = np.zeros(3,dtype=int)\n",
        "            \n",
        "    return np.uint8(grid)"
      ],
      "execution_count": 0,
      "outputs": []
    },
    {
      "metadata": {
        "id": "i4TOh4Lb2r9e",
        "colab_type": "text"
      },
      "cell_type": "markdown",
      "source": [
        "définition du réseau - actuellement un réseau récurrent naif - à convertir en lstm "
      ]
    },
    {
      "metadata": {
        "id": "6T8uzric25Kj",
        "colab_type": "code",
        "colab": {
          "base_uri": "https://localhost:8080/",
          "height": 139
        },
        "outputId": "98b764bd-a984-4968-bea1-bbc157a74167"
      },
      "cell_type": "code",
      "source": [
        "class Net(nn.Module):\n",
        "    def __init__(self):\n",
        "        super(Net, self).__init__()\n",
        "        self.updatememory1 = nn.Linear(32, 128, bias=True)\n",
        "        self.updatememory2 = nn.Linear(128, 30, bias=True)\n",
        "        \n",
        "        self.output1 = nn.Linear(32, 128, bias=True)\n",
        "        self.output2 = nn.Linear(128, 128, bias=True)\n",
        "        self.output3 = nn.Linear(128, 3, bias=True)\n",
        "\n",
        "    def forward(self, x):\n",
        "        T,N,_ = x.shape\n",
        "        \n",
        "        memoryx = torch.autograd.Variable(torch.Tensor(np.zeros((N,30),dtype=float)))\n",
        "        xprec = torch.autograd.Variable(torch.Tensor(np.zeros((N,1),dtype=float)))\n",
        "        \n",
        "        alloutput = []\n",
        "        for t in range(T):\n",
        "            vx = torch.autograd.Variable(torch.Tensor(x[t]).float())\n",
        "            xxprecy = torch.cat([vx,xprec,memoryx],dim = 1)\n",
        "            \n",
        "            output = F.leaky_relu(self.output1(xxprecy))\n",
        "            output = F.leaky_relu(self.output2(output))\n",
        "            output = self.output3(output)\n",
        "            alloutput.append(output)\n",
        "            \n",
        "            xprec = vx\n",
        "            memoryx = F.leaky_relu(self.updatememory1(xxprecy))\n",
        "            memoryx = self.updatememory2(memoryx)\n",
        "            \n",
        "        return alloutput\n",
        "\n",
        "    def forwardnp(self,x):\n",
        "        T,N,_ = x.shape\n",
        "        \n",
        "        alloutput = self.forward(x)\n",
        "        \n",
        "        npprob = np.zeros((T,N,3),dtype=float)\n",
        "        for t in range(T): \n",
        "            npprob[t] = alloutput[t].cpu().data.numpy()\n",
        "        \n",
        "        pred = np.argmax(npprob,axis=2)\n",
        "        return pred,npprob\n",
        "\n",
        "model = Net()\n",
        "model.train()\n",
        "\n"
      ],
      "execution_count": 4,
      "outputs": [
        {
          "output_type": "execute_result",
          "data": {
            "text/plain": [
              "Net(\n",
              "  (updatememory1): Linear(in_features=32, out_features=128, bias=True)\n",
              "  (updatememory2): Linear(in_features=128, out_features=30, bias=True)\n",
              "  (output1): Linear(in_features=32, out_features=128, bias=True)\n",
              "  (output2): Linear(in_features=128, out_features=128, bias=True)\n",
              "  (output3): Linear(in_features=128, out_features=3, bias=True)\n",
              ")"
            ]
          },
          "metadata": {
            "tags": []
          },
          "execution_count": 4
        }
      ]
    },
    {
      "metadata": {
        "id": "Tb4zLxtm3Kp1",
        "colab_type": "text"
      },
      "cell_type": "markdown",
      "source": [
        "l'apprentissage et les paramètres associés"
      ]
    },
    {
      "metadata": {
        "id": "H-vzcjZj3P_w",
        "colab_type": "code",
        "colab": {
          "base_uri": "https://localhost:8080/",
          "height": 929
        },
        "outputId": "8e96ecd7-0df2-454f-aeb6-6522e7a6e8ec"
      },
      "cell_type": "code",
      "source": [
        "lr = 0.00001\n",
        "momentum = 0.5\n",
        "optimizer = optim.SGD(model.parameters(), lr=lr, momentum=momentum)\n",
        "losslayer = nn.CrossEntropyLoss()\n",
        "\n",
        "from IPython.display import clear_output # command to clear the figures\n",
        "from time import sleep\n",
        "\n",
        "allprints = []\n",
        "nbepoch = 200\n",
        "for epoch in range(nbepoch):\n",
        "    x,y=generateSample()\n",
        "    \n",
        "    alloutput = model(x)\n",
        "\n",
        "    npprob = np.zeros((T,N,3),dtype=float)\n",
        "    for t in range(T): \n",
        "        npprob[t] = alloutput[t].cpu().data.numpy()\n",
        "    z = np.argmax(npprob,axis=2)\n",
        "\n",
        "    allloss = []\n",
        "    for t in range(T):\n",
        "        targett = torch.autograd.Variable(torch.from_numpy(y[t]).long())\n",
        "        losst = losslayer(alloutput[t], targett)\n",
        "        allloss.append(losst)\n",
        "\n",
        "    loss = sum(allloss)\n",
        "    optimizer.zero_grad()\n",
        "    loss.backward()\n",
        "    optimizer.step()\n",
        "\n",
        "    if epoch%8==0:\n",
        "        #show how it learn\n",
        "        nberror = (np.transpose(np.nonzero(y-z))).shape[0]\n",
        "        allprints.append((\"error=\",nberror,\"\\toptimisation loss=\", loss.cpu().data.numpy()))\n",
        "        visu = visualizecurve(x[:,:,0],y,z)\n",
        "        clear_output()\n",
        "        plt.imshow(visu)\n",
        "        plt.show()\n",
        "        for a,b,c,d in allprints:\n",
        "            print(a,b,c,d)\n",
        "        sleep(1)\n",
        " \n"
      ],
      "execution_count": 5,
      "outputs": [
        {
          "output_type": "display_data",
          "data": {
            "image/png": "[encoded data removed]",
            "text/plain": [
              "<Figure size 576x396 with 1 Axes>"
            ]
          },
          "metadata": {
            "tags": []
          }
        },
        {
          "output_type": "stream",
          "text": [
            "error= 1664 \toptimisation loss= 512.5748\n",
            "error= 1302 \toptimisation loss= 407.5995\n",
            "error= 1343 \toptimisation loss= 388.7424\n",
            "error= 1345 \toptimisation loss= 401.00317\n",
            "error= 1047 \toptimisation loss= 395.86884\n",
            "error= 1271 \toptimisation loss= 391.21426\n",
            "error= 1204 \toptimisation loss= 383.67627\n",
            "error= 1092 \toptimisation loss= 372.9784\n",
            "error= 1035 \toptimisation loss= 375.6014\n",
            "error= 892 \toptimisation loss= 371.0492\n",
            "error= 977 \toptimisation loss= 363.78595\n"
          ],
          "name": "stdout"
        },
        {
          "output_type": "error",
          "ename": "KeyboardInterrupt",
          "evalue": "ignored",
          "traceback": [
            "\u001b[0;31m---------------------------------------------------------------------------\u001b[0m",
            "\u001b[0;31mKeyboardInterrupt\u001b[0m                         Traceback (most recent call last)",
            "\u001b[0;32m<ipython-input-5-f34904fb6f7f>\u001b[0m in \u001b[0;36m<module>\u001b[0;34m()\u001b[0m\n\u001b[1;32m     27\u001b[0m     \u001b[0mloss\u001b[0m \u001b[0;34m=\u001b[0m \u001b[0msum\u001b[0m\u001b[0;34m(\u001b[0m\u001b[0mallloss\u001b[0m\u001b[0;34m)\u001b[0m\u001b[0;34m\u001b[0m\u001b[0;34m\u001b[0m\u001b[0m\n\u001b[1;32m     28\u001b[0m     \u001b[0moptimizer\u001b[0m\u001b[0;34m.\u001b[0m\u001b[0mzero_grad\u001b[0m\u001b[0;34m(\u001b[0m\u001b[0;34m)\u001b[0m\u001b[0;34m\u001b[0m\u001b[0;34m\u001b[0m\u001b[0m\n\u001b[0;32m---> 29\u001b[0;31m     \u001b[0mloss\u001b[0m\u001b[0;34m.\u001b[0m\u001b[0mbackward\u001b[0m\u001b[0;34m(\u001b[0m\u001b[0;34m)\u001b[0m\u001b[0;34m\u001b[0m\u001b[0;34m\u001b[0m\u001b[0m\n\u001b[0m\u001b[1;32m     30\u001b[0m     \u001b[0moptimizer\u001b[0m\u001b[0;34m.\u001b[0m\u001b[0mstep\u001b[0m\u001b[0;34m(\u001b[0m\u001b[0;34m)\u001b[0m\u001b[0;34m\u001b[0m\u001b[0;34m\u001b[0m\u001b[0m\n\u001b[1;32m     31\u001b[0m \u001b[0;34m\u001b[0m\u001b[0m\n",
            "\u001b[0;32m/usr/local/lib/python3.6/dist-packages/torch/tensor.py\u001b[0m in \u001b[0;36mbackward\u001b[0;34m(self, gradient, retain_graph, create_graph)\u001b[0m\n\u001b[1;32m    100\u001b[0m                 \u001b[0mproducts\u001b[0m\u001b[0;34m.\u001b[0m \u001b[0mDefaults\u001b[0m \u001b[0mto\u001b[0m\u001b[0;31m \u001b[0m\u001b[0;31m`\u001b[0m\u001b[0;31m`\u001b[0m\u001b[0;32mFalse\u001b[0m\u001b[0;31m`\u001b[0m\u001b[0;31m`\u001b[0m\u001b[0;34m.\u001b[0m\u001b[0;34m\u001b[0m\u001b[0;34m\u001b[0m\u001b[0m\n\u001b[1;32m    101\u001b[0m         \"\"\"\n\u001b[0;32m--> 102\u001b[0;31m         \u001b[0mtorch\u001b[0m\u001b[0;34m.\u001b[0m\u001b[0mautograd\u001b[0m\u001b[0;34m.\u001b[0m\u001b[0mbackward\u001b[0m\u001b[0;34m(\u001b[0m\u001b[0mself\u001b[0m\u001b[0;34m,\u001b[0m \u001b[0mgradient\u001b[0m\u001b[0;34m,\u001b[0m \u001b[0mretain_graph\u001b[0m\u001b[0;34m,\u001b[0m \u001b[0mcreate_graph\u001b[0m\u001b[0;34m)\u001b[0m\u001b[0;34m\u001b[0m\u001b[0;34m\u001b[0m\u001b[0m\n\u001b[0m\u001b[1;32m    103\u001b[0m \u001b[0;34m\u001b[0m\u001b[0m\n\u001b[1;32m    104\u001b[0m     \u001b[0;32mdef\u001b[0m \u001b[0mregister_hook\u001b[0m\u001b[0;34m(\u001b[0m\u001b[0mself\u001b[0m\u001b[0;34m,\u001b[0m \u001b[0mhook\u001b[0m\u001b[0;34m)\u001b[0m\u001b[0;34m:\u001b[0m\u001b[0;34m\u001b[0m\u001b[0;34m\u001b[0m\u001b[0m\n",
            "\u001b[0;32m/usr/local/lib/python3.6/dist-packages/torch/autograd/__init__.py\u001b[0m in \u001b[0;36mbackward\u001b[0;34m(tensors, grad_tensors, retain_graph, create_graph, grad_variables)\u001b[0m\n\u001b[1;32m     88\u001b[0m     Variable._execution_engine.run_backward(\n\u001b[1;32m     89\u001b[0m         \u001b[0mtensors\u001b[0m\u001b[0;34m,\u001b[0m \u001b[0mgrad_tensors\u001b[0m\u001b[0;34m,\u001b[0m \u001b[0mretain_graph\u001b[0m\u001b[0;34m,\u001b[0m \u001b[0mcreate_graph\u001b[0m\u001b[0;34m,\u001b[0m\u001b[0;34m\u001b[0m\u001b[0;34m\u001b[0m\u001b[0m\n\u001b[0;32m---> 90\u001b[0;31m         allow_unreachable=True)  # allow_unreachable flag\n\u001b[0m\u001b[1;32m     91\u001b[0m \u001b[0;34m\u001b[0m\u001b[0m\n\u001b[1;32m     92\u001b[0m \u001b[0;34m\u001b[0m\u001b[0m\n",
            "\u001b[0;31mKeyboardInterrupt\u001b[0m: "
          ]
        }
      ]
    }
  ]
}
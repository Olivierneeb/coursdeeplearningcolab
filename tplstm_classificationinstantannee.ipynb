{
  "nbformat": 4,
  "nbformat_minor": 0,
  "metadata": {
    "colab": {
      "name": "tplstm.ipynb",
      "version": "0.3.2",
      "provenance": [],
      "collapsed_sections": [],
      "include_colab_link": true
    },
    "kernelspec": {
      "name": "python3",
      "display_name": "Python 3"
    }
  },
  "cells": [
    {
      "cell_type": "markdown",
      "metadata": {
        "id": "view-in-github",
        "colab_type": "text"
      },
      "source": [
        "<a href=\"https://colab.research.google.com/github/achanhon/coursdeeplearningcolab/blob/master/tplstm_classificationinstantannee.ipynb\" target=\"_parent\"><img src=\"https://colab.research.google.com/assets/colab-badge.svg\" alt=\"Open In Colab\"/></a>"
      ]
    },
    {
      "metadata": {
        "id": "sX-k16KRvZiY",
        "colab_type": "text"
      },
      "cell_type": "markdown",
      "source": [
        "TP LSTM\n",
        "\n",
        "la liste des paquets nécessaires au programme\n"
      ]
    },
    {
      "metadata": {
        "id": "Lbev5unYvOVG",
        "colab_type": "code",
        "colab": {}
      },
      "cell_type": "code",
      "source": [
        "from __future__ import print_function\n",
        "import os\n",
        "import sys\n",
        "\n",
        "import numpy as np\n",
        "import random\n",
        "\n",
        "import torch\n",
        "import torch.nn as nn\n",
        "import torch.nn.functional as F\n",
        "import torch.optim as optim\n",
        "import torch.autograd\n",
        "import torch.autograd.variable\n",
        "\n",
        "from matplotlib import pyplot as plt"
      ],
      "execution_count": 0,
      "outputs": []
    },
    {
      "metadata": {
        "id": "Z0pCycDRvszu",
        "colab_type": "text"
      },
      "cell_type": "markdown",
      "source": [
        "définition d'un générateur aléatoire de signaux :  \n",
        "* classe 0 -> rampe décroissante\n",
        "* classe 1 -> constante\n",
        "* classe 2 -> rampe croissante\n",
        "\n",
        "auquel on ajoute un bruit uniforme de grande intensité\n",
        "\n",
        "**l'objectif est d'être capable de prédire en chaque point s'il fait parti de la classe 0, 1 ou 2 (sachant qu'il y a des ambiguités à cause du bruit)**"
      ]
    },
    {
      "metadata": {
        "id": "xoNyIVQP0ONI",
        "colab_type": "code",
        "colab": {}
      },
      "cell_type": "code",
      "source": [
        "N = 5\n",
        "T = 400\n",
        "def generateSample():\n",
        "    #generating gt and corresponding\n",
        "    y = np.zeros((T,N),dtype=int)\n",
        "    signal = np.zeros((T,N,1),dtype=int)\n",
        "    for n in range(N):\n",
        "        t=1\n",
        "        while t<T:\n",
        "            Dt = random.randint(10,40)\n",
        "            classe = random.randint(0,2)\n",
        "            while y[t-1][n]==classe and classe!=1:\n",
        "                classe = random.randint(0,2)    \n",
        "            for dt in range(Dt):\n",
        "                if t+dt<T:\n",
        "                    y[t+dt][n] = classe\n",
        "                    signal[t+dt][n][0] = (dt+1)*(classe-1)\n",
        "            t+=Dt\n",
        "    \n",
        "    #generating pure noise          \n",
        "    x = np.random.randint(-6,7,size=(T,N,1))\n",
        "\n",
        "    #adding the signal\n",
        "    x += signal\n",
        "    x = np.maximum(x,np.ones((T,N,1),dtype=int)*(-20))\n",
        "    x = np.minimum(x,np.ones((T,N,1),dtype=int)*19)\n",
        "    x += 20\n",
        "    \n",
        "    return x,y\n"
      ],
      "execution_count": 0,
      "outputs": []
    },
    {
      "metadata": {
        "id": "pIdprpjM1rxX",
        "colab_type": "text"
      },
      "cell_type": "markdown",
      "source": [
        "fonction de visualisation des signaux - de la classe et de la prédiction \n",
        "* vert pour la classe 0\n",
        "* bleu pour la classe 1\n",
        "* rose pour la classe 2"
      ]
    },
    {
      "metadata": {
        "id": "mdPJdl-615FO",
        "colab_type": "code",
        "colab": {}
      },
      "cell_type": "code",
      "source": [
        "def visualizecurve(x,y,z):\n",
        "    grid = np.ones((40*N,T,3),dtype=int)*255\n",
        "\n",
        "    for n in range(N):\n",
        "        for t in range(T):\n",
        "            if y[t][n]==0:\n",
        "                grid[40*n:40*n+20,t,:] = np.asarray([207,236,207])\n",
        "            if y[t][n]==1:\n",
        "                grid[40*n:40*n+20,t,:] = np.asarray([204,236,239])\n",
        "            if y[t][n]==2:\n",
        "                grid[40*n:40*n+20,t,:] = np.asarray([221,212,232])\n",
        "                \n",
        "            if z[t][n]==0:\n",
        "                grid[40*n+20:40*n+40,t,:] = np.asarray([207,236,207])\n",
        "            if z[t][n]==1:\n",
        "                grid[40*n+20:40*n+40,t,:] = np.asarray([204,236,239])\n",
        "            if z[t][n]==2:\n",
        "                grid[40*n+20:40*n+40,t,:] = np.asarray([221,212,232])\n",
        "            \n",
        "            grid[40*n+x[t][n]][t] = np.zeros(3,dtype=int)\n",
        "            \n",
        "    return np.uint8(grid)"
      ],
      "execution_count": 0,
      "outputs": []
    },
    {
      "metadata": {
        "id": "i4TOh4Lb2r9e",
        "colab_type": "text"
      },
      "cell_type": "markdown",
      "source": [
        "définition du réseau - actuellement un réseau récurrent naif - à convertir en lstm "
      ]
    },
    {
      "metadata": {
        "id": "6T8uzric25Kj",
        "colab_type": "code",
        "outputId": "882e9539-876a-46e2-c200-6cb2211f2317",
        "colab": {
          "base_uri": "https://localhost:8080/",
          "height": 71
        }
      },
      "cell_type": "code",
      "source": [
        "class Net(nn.Module):\n",
        "    def __init__(self):\n",
        "        super(Net, self).__init__()\n",
        "        self.output3 = nn.Linear(1, 3, bias=True)\n",
        "\n",
        "    def forward(self, x):\n",
        "        T,N,_ = x.shape\n",
        "        \n",
        "\n",
        "        alloutput = []\n",
        "        for t in range(T):\n",
        "            vx = torch.autograd.Variable(torch.Tensor(x[t]).float()) # linear expect Nx1 input\n",
        "            \n",
        "            output = self.output3(vx)\n",
        "            alloutput.append(output)\n",
        "            \n",
        "        return alloutput\n",
        "\n",
        "    def forwardnp(self,x):\n",
        "        T,N,_ = x.shape\n",
        "        \n",
        "        alloutput = self.forward(x)\n",
        "        \n",
        "        npprob = np.zeros((T,N,3),dtype=float)\n",
        "        for t in range(T): \n",
        "            npprob[t] = alloutput[t].cpu().data.numpy()\n",
        "        \n",
        "        pred = np.argmax(npprob,axis=2)\n",
        "        return pred,npprob\n",
        "\n",
        "model = Net()\n",
        "model.train()\n",
        "\n"
      ],
      "execution_count": 0,
      "outputs": [
        {
          "output_type": "execute_result",
          "data": {
            "text/plain": [
              "Net(\n",
              "  (output3): Linear(in_features=1, out_features=3, bias=True)\n",
              ")"
            ]
          },
          "metadata": {
            "tags": []
          },
          "execution_count": 4
        }
      ]
    },
    {
      "metadata": {
        "id": "Tb4zLxtm3Kp1",
        "colab_type": "text"
      },
      "cell_type": "markdown",
      "source": [
        "l'apprentissage et les paramètres associés"
      ]
    },
    {
      "metadata": {
        "id": "H-vzcjZj3P_w",
        "colab_type": "code",
        "outputId": "761815b9-5e42-453f-8109-607d2e4b3401",
        "colab": {
          "base_uri": "https://localhost:8080/",
          "height": 838
        }
      },
      "cell_type": "code",
      "source": [
        "lr = 0.00001\n",
        "momentum = 0.5\n",
        "optimizer = optim.SGD(model.parameters(), lr=lr, momentum=momentum)\n",
        "losslayer = nn.CrossEntropyLoss()\n",
        "\n",
        "from IPython.display import clear_output # command to clear the figures\n",
        "from time import sleep\n",
        "\n",
        "allprints = []\n",
        "nbepoch = 200\n",
        "for epoch in range(nbepoch):\n",
        "    x,y=generateSample()\n",
        "    \n",
        "    alloutput = model(x)\n",
        "\n",
        "    npprob = np.zeros((T,N,3),dtype=float)\n",
        "    for t in range(T): \n",
        "        npprob[t] = alloutput[t].cpu().data.numpy()\n",
        "    z = np.argmax(npprob,axis=2)\n",
        "\n",
        "    allloss = []\n",
        "    for t in range(T):\n",
        "        targett = torch.autograd.Variable(torch.from_numpy(y[t]).long())\n",
        "        losst = losslayer(alloutput[t], targett)\n",
        "        allloss.append(losst)\n",
        "\n",
        "    loss = sum(allloss)\n",
        "    optimizer.zero_grad()\n",
        "    loss.backward()\n",
        "    optimizer.step()\n",
        "\n",
        "    if epoch%8==0:\n",
        "        #show how it learn\n",
        "        nberror = (np.transpose(np.nonzero(y-z))).shape[0]\n",
        "        allprints.append((\"error=\",nberror,\"\\toptimisation loss=\", loss.cpu().data.numpy()))\n",
        "        visu = visualizecurve(x[:,:,0],y,z)\n",
        "        clear_output()\n",
        "        plt.imshow(visu)\n",
        "        plt.show()\n",
        "        for a,b,c,d in allprints:\n",
        "            print(a,b,c,d)\n",
        "        sleep(1)\n",
        " \n"
      ],
      "execution_count": 0,
      "outputs": [
        {
          "output_type": "display_data",
          "data": {
            "image/png": "[encoded data removed]",
            "text/plain": [
              "<Figure size 432x288 with 1 Axes>"
            ]
          },
          "metadata": {
            "tags": []
          }
        },
        {
          "output_type": "stream",
          "text": [
            "error= 1290 \toptimisation loss= 3809.3682\n",
            "error= 980 \toptimisation loss= 623.35364\n",
            "error= 1247 \toptimisation loss= 407.85306\n",
            "error= 1561 \toptimisation loss= 395.3395\n",
            "error= 1350 \toptimisation loss= 407.22083\n",
            "error= 1281 \toptimisation loss= 402.19058\n",
            "error= 1574 \toptimisation loss= 390.3934\n",
            "error= 1648 \toptimisation loss= 399.48343\n",
            "error= 1003 \toptimisation loss= 390.63202\n",
            "error= 1296 \toptimisation loss= 390.53195\n",
            "error= 1628 \toptimisation loss= 391.9392\n",
            "error= 1385 \toptimisation loss= 410.14136\n",
            "error= 1439 \toptimisation loss= 387.7621\n",
            "error= 1397 \toptimisation loss= 385.887\n",
            "error= 1157 \toptimisation loss= 390.65826\n",
            "error= 1300 \toptimisation loss= 400.99942\n",
            "error= 1568 \toptimisation loss= 382.06653\n",
            "error= 1177 \toptimisation loss= 391.4593\n",
            "error= 1546 \toptimisation loss= 383.62762\n",
            "error= 1562 \toptimisation loss= 388.67056\n",
            "error= 1327 \toptimisation loss= 382.8406\n",
            "error= 1138 \toptimisation loss= 376.59418\n",
            "error= 1124 \toptimisation loss= 373.66187\n"
          ],
          "name": "stdout"
        },
        {
          "output_type": "error",
          "ename": "KeyboardInterrupt",
          "evalue": "ignored",
          "traceback": [
            "\u001b[0;31m---------------------------------------------------------------------------\u001b[0m",
            "\u001b[0;31mKeyboardInterrupt\u001b[0m                         Traceback (most recent call last)",
            "\u001b[0;32m<ipython-input-5-f34904fb6f7f>\u001b[0m in \u001b[0;36m<module>\u001b[0;34m()\u001b[0m\n\u001b[1;32m     40\u001b[0m         \u001b[0;32mfor\u001b[0m \u001b[0ma\u001b[0m\u001b[0;34m,\u001b[0m\u001b[0mb\u001b[0m\u001b[0;34m,\u001b[0m\u001b[0mc\u001b[0m\u001b[0;34m,\u001b[0m\u001b[0md\u001b[0m \u001b[0;32min\u001b[0m \u001b[0mallprints\u001b[0m\u001b[0;34m:\u001b[0m\u001b[0;34m\u001b[0m\u001b[0;34m\u001b[0m\u001b[0m\n\u001b[1;32m     41\u001b[0m             \u001b[0mprint\u001b[0m\u001b[0;34m(\u001b[0m\u001b[0ma\u001b[0m\u001b[0;34m,\u001b[0m\u001b[0mb\u001b[0m\u001b[0;34m,\u001b[0m\u001b[0mc\u001b[0m\u001b[0;34m,\u001b[0m\u001b[0md\u001b[0m\u001b[0;34m)\u001b[0m\u001b[0;34m\u001b[0m\u001b[0;34m\u001b[0m\u001b[0m\n\u001b[0;32m---> 42\u001b[0;31m         \u001b[0msleep\u001b[0m\u001b[0;34m(\u001b[0m\u001b[0;36m1\u001b[0m\u001b[0;34m)\u001b[0m\u001b[0;34m\u001b[0m\u001b[0;34m\u001b[0m\u001b[0m\n\u001b[0m\u001b[1;32m     43\u001b[0m \u001b[0;34m\u001b[0m\u001b[0m\n",
            "\u001b[0;31mKeyboardInterrupt\u001b[0m: "
          ]
        }
      ]
    }
  ]
}
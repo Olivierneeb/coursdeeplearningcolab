{
  "nbformat": 4,
  "nbformat_minor": 0,
  "metadata": {
    "colab": {
      "name": "Untitled1.ipynb",
      "provenance": [],
      "collapsed_sections": [],
      "include_colab_link": true
    },
    "kernelspec": {
      "name": "python3",
      "display_name": "Python 3"
    }
  },
  "cells": [
    {
      "cell_type": "markdown",
      "metadata": {
        "id": "view-in-github",
        "colab_type": "text"
      },
      "source": [
        "<a href=\"https://colab.research.google.com/github/achanhon/coursdeeplearningcolab/blob/master/TP1.ipynb\" target=\"_parent\"><img src=\"https://colab.research.google.com/assets/colab-badge.svg\" alt=\"Open In Colab\"/></a>"
      ]
    },
    {
      "cell_type": "code",
      "metadata": {
        "id": "wTjvWNk7Kjmo",
        "colab_type": "code",
        "colab": {}
      },
      "source": [
        "import torch\n",
        "import torch.nn as nn\n",
        "import torch.nn.functional as F\n",
        "import torch.optim as optim\n",
        "import torchvision\n",
        "import torch.autograd\n",
        "import torch.autograd.variable"
      ],
      "execution_count": 0,
      "outputs": []
    },
    {
      "cell_type": "markdown",
      "metadata": {
        "id": "TgWO6beJKuvY",
        "colab_type": "text"
      },
      "source": [
        "L'objectif de ce tp est de manipuler les objets \"convolutions\" et \"pooling\".\n",
        "Nous ne traiteront pas d'images réelles (car les moyens informatiques à mettre en oeuvre sont complexes). Mais nous observerons l'effet de ces objets sur des tenseurs aléatoires.\n",
        "\n",
        "EN CAS DE DOUTE CONSULTER LA DOCUMENTATION SUR https://pytorch.org/"
      ]
    },
    {
      "cell_type": "code",
      "metadata": {
        "id": "CF4_XciGK29r",
        "colab_type": "code",
        "colab": {
          "base_uri": "https://localhost:8080/",
          "height": 34
        },
        "outputId": "96152ac6-461d-4b2e-a1fe-225edd9395cd"
      },
      "source": [
        "image = torch.rand((1,3,32,32))\n",
        "print(image.shape)"
      ],
      "execution_count": 5,
      "outputs": [
        {
          "output_type": "stream",
          "text": [
            "torch.Size([1, 3, 32, 32])\n"
          ],
          "name": "stdout"
        }
      ]
    },
    {
      "cell_type": "code",
      "metadata": {
        "id": "s63lH0MQLnaw",
        "colab_type": "code",
        "colab": {
          "base_uri": "https://localhost:8080/",
          "height": 34
        },
        "outputId": "08c50096-f93f-458f-a466-0bebc38d2061"
      },
      "source": [
        "conv = nn.Conv2d(3,5,kernel_size = (5))\n",
        "print(conv.weight.shape)"
      ],
      "execution_count": 14,
      "outputs": [
        {
          "output_type": "stream",
          "text": [
            "torch.Size([5, 3, 5, 5])\n"
          ],
          "name": "stdout"
        }
      ]
    },
    {
      "cell_type": "markdown",
      "metadata": {
        "id": "wmyLLLP4MIRm",
        "colab_type": "text"
      },
      "source": [
        "**À quoi correspondent les arguments de Conv2d ?** (regardez la doc)"
      ]
    },
    {
      "cell_type": "code",
      "metadata": {
        "id": "HrXW3B80MFJW",
        "colab_type": "code",
        "colab": {
          "base_uri": "https://localhost:8080/",
          "height": 34
        },
        "outputId": "5d6fff27-98eb-4184-a8f6-864c3abea778"
      },
      "source": [
        "imageApresConv = conv(image)\n",
        "print(imageApresConv.shape)"
      ],
      "execution_count": 15,
      "outputs": [
        {
          "output_type": "stream",
          "text": [
            "torch.Size([1, 5, 28, 28])\n"
          ],
          "name": "stdout"
        }
      ]
    },
    {
      "cell_type": "markdown",
      "metadata": {
        "id": "tNmjUVtWMYxj",
        "colab_type": "text"
      },
      "source": [
        "Ici, la convolution n'avait pas de padding, la taille de l'image est modifié... Généralement, on préfère que les convolutions aient du padding pour conserver la taille de l'image"
      ]
    },
    {
      "cell_type": "code",
      "metadata": {
        "id": "vCxx4_i6Mpfs",
        "colab_type": "code",
        "colab": {
          "base_uri": "https://localhost:8080/",
          "height": 52
        },
        "outputId": "2152d3d6-2aa0-4aef-ded7-06f48439e541"
      },
      "source": [
        "convpadding = nn.Conv2d(3,5,kernel_size = (5),padding=2)\n",
        "print(convpadding.weight.shape)\n",
        "imageApresConvPadding = convpadding(image)\n",
        "print(imageApresConvPadding.shape)"
      ],
      "execution_count": 18,
      "outputs": [
        {
          "output_type": "stream",
          "text": [
            "torch.Size([5, 3, 5, 5])\n",
            "torch.Size([1, 5, 32, 32])\n"
          ],
          "name": "stdout"
        }
      ]
    },
    {
      "cell_type": "markdown",
      "metadata": {
        "id": "GTFgr9lgM9Fz",
        "colab_type": "text"
      },
      "source": [
        "**Comment transformeriez vous une image en 1 seul vecteur à l'aide d'une seule convolution ?**"
      ]
    },
    {
      "cell_type": "code",
      "metadata": {
        "id": "m5Sq3mgcNEm1",
        "colab_type": "code",
        "colab": {}
      },
      "source": [
        "print(TODO)"
      ],
      "execution_count": 0,
      "outputs": []
    },
    {
      "cell_type": "markdown",
      "metadata": {
        "id": "menO5kLfNHa_",
        "colab_type": "text"
      },
      "source": [
        "**Combien de poids a cette convolution (vis à vis de l'image) ? Qu'elle différence avec un neurone classique dans ce cas ?**"
      ]
    },
    {
      "cell_type": "markdown",
      "metadata": {
        "id": "U5G9DLlkNTvy",
        "colab_type": "text"
      },
      "source": [
        "**Si l'image faisait 64x64 pixel, quelle serait la taille qu'on obtiendrait ?\n",
        "Pareil si l'image faisait 128x128 pixel ?** (vous pouvez coder pour tester si vous n'êtes pas sur)"
      ]
    },
    {
      "cell_type": "code",
      "metadata": {
        "id": "Ixdc2PRCNxp3",
        "colab_type": "code",
        "colab": {}
      },
      "source": [
        "pool = None\n",
        "print(TODO)"
      ],
      "execution_count": 0,
      "outputs": []
    }
  ]
}
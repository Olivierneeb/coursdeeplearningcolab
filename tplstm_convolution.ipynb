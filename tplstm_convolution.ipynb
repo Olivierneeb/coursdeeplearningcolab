{
  "nbformat": 4,
  "nbformat_minor": 0,
  "metadata": {
    "colab": {
      "name": "tplstm.ipynb",
      "version": "0.3.2",
      "provenance": [],
      "collapsed_sections": [],
      "include_colab_link": true
    },
    "kernelspec": {
      "name": "python3",
      "display_name": "Python 3"
    }
  },
  "cells": [
    {
      "cell_type": "markdown",
      "metadata": {
        "id": "view-in-github",
        "colab_type": "text"
      },
      "source": [
        "<a href=\"https://colab.research.google.com/github/achanhon/coursdeeplearningcolab/blob/master/tplstm_convolution.ipynb\" target=\"_parent\"><img src=\"https://colab.research.google.com/assets/colab-badge.svg\" alt=\"Open In Colab\"/></a>"
      ]
    },
    {
      "metadata": {
        "id": "sX-k16KRvZiY",
        "colab_type": "text"
      },
      "cell_type": "markdown",
      "source": [
        "TP LSTM\n",
        "\n",
        "la liste des paquets nécessaires au programme\n"
      ]
    },
    {
      "metadata": {
        "id": "Lbev5unYvOVG",
        "colab_type": "code",
        "colab": {}
      },
      "cell_type": "code",
      "source": [
        "from __future__ import print_function\n",
        "import os\n",
        "import sys\n",
        "\n",
        "import numpy as np\n",
        "import random\n",
        "\n",
        "import torch\n",
        "import torch.nn as nn\n",
        "import torch.nn.functional as F\n",
        "import torch.optim as optim\n",
        "import torch.autograd\n",
        "import torch.autograd.variable\n",
        "\n",
        "from matplotlib import pyplot as plt"
      ],
      "execution_count": 0,
      "outputs": []
    },
    {
      "metadata": {
        "id": "Z0pCycDRvszu",
        "colab_type": "text"
      },
      "cell_type": "markdown",
      "source": [
        "définition d'un générateur aléatoire de signaux :  \n",
        "* classe 0 -> rampe décroissante\n",
        "* classe 1 -> constante\n",
        "* classe 2 -> rampe croissante\n",
        "\n",
        "auquel on ajoute un bruit uniforme de grande intensité\n",
        "\n",
        "**l'objectif est d'être capable de prédire en chaque point s'il fait parti de la classe 0, 1 ou 2 (sachant qu'il y a des ambiguités à cause du bruit)**"
      ]
    },
    {
      "metadata": {
        "id": "xoNyIVQP0ONI",
        "colab_type": "code",
        "colab": {}
      },
      "cell_type": "code",
      "source": [
        "N = 1\n",
        "T = 400\n",
        "def generateSample():\n",
        "    #generating gt and corresponding\n",
        "    y = np.zeros((T,N),dtype=int)\n",
        "    signal = np.zeros((T,N,1),dtype=int)\n",
        "    for n in range(N):\n",
        "        t=1\n",
        "        while t<T:\n",
        "            Dt = random.randint(10,40)\n",
        "            classe = random.randint(0,2)\n",
        "            while y[t-1][n]==classe and classe!=1:\n",
        "                classe = random.randint(0,2)    \n",
        "            for dt in range(Dt):\n",
        "                if t+dt<T:\n",
        "                    y[t+dt][n] = classe\n",
        "                    signal[t+dt][n][0] = (dt+1)*(classe-1)\n",
        "            t+=Dt\n",
        "    \n",
        "    #generating pure noise          \n",
        "    x = np.random.randint(-6,7,size=(T,N,1))\n",
        "\n",
        "    #adding the signal\n",
        "    x += signal\n",
        "    x = np.maximum(x,np.ones((T,N,1),dtype=int)*(-20))\n",
        "    x = np.minimum(x,np.ones((T,N,1),dtype=int)*19)\n",
        "    x += 20\n",
        "    \n",
        "    return x,y\n"
      ],
      "execution_count": 0,
      "outputs": []
    },
    {
      "metadata": {
        "id": "pIdprpjM1rxX",
        "colab_type": "text"
      },
      "cell_type": "markdown",
      "source": [
        "fonction de visualisation des signaux - de la classe et de la prédiction \n",
        "* vert pour la classe 0\n",
        "* bleu pour la classe 1\n",
        "* rose pour la classe 2"
      ]
    },
    {
      "metadata": {
        "id": "mdPJdl-615FO",
        "colab_type": "code",
        "colab": {}
      },
      "cell_type": "code",
      "source": [
        "def visualizecurve(x,y,z):\n",
        "    grid = np.ones((40*N,T,3),dtype=int)*255\n",
        "\n",
        "    for n in range(N):\n",
        "        for t in range(T):\n",
        "            if y[t][n]==0:\n",
        "                grid[40*n:40*n+20,t,:] = np.asarray([207,236,207])\n",
        "            if y[t][n]==1:\n",
        "                grid[40*n:40*n+20,t,:] = np.asarray([204,236,239])\n",
        "            if y[t][n]==2:\n",
        "                grid[40*n:40*n+20,t,:] = np.asarray([221,212,232])\n",
        "                \n",
        "            if z[t][n]==0:\n",
        "                grid[40*n+20:40*n+40,t,:] = np.asarray([207,236,207])\n",
        "            if z[t][n]==1:\n",
        "                grid[40*n+20:40*n+40,t,:] = np.asarray([204,236,239])\n",
        "            if z[t][n]==2:\n",
        "                grid[40*n+20:40*n+40,t,:] = np.asarray([221,212,232])\n",
        "            \n",
        "            grid[40*n+x[t][n]][t] = np.zeros(3,dtype=int)\n",
        "            \n",
        "    return np.uint8(grid)"
      ],
      "execution_count": 0,
      "outputs": []
    },
    {
      "metadata": {
        "id": "i4TOh4Lb2r9e",
        "colab_type": "text"
      },
      "cell_type": "markdown",
      "source": [
        "convolution"
      ]
    },
    {
      "metadata": {
        "id": "6T8uzric25Kj",
        "colab_type": "code",
        "outputId": "cba80df4-ab9f-4db1-9f56-5fca0fae515e",
        "colab": {
          "base_uri": "https://localhost:8080/",
          "height": 69
        }
      },
      "cell_type": "code",
      "source": [
        "class Net(nn.Module):\n",
        "    def __init__(self):\n",
        "        super(Net, self).__init__()\n",
        "        \n",
        "        self.output1 = nn.Conv1d(1,3, kernel_size=5, bias=True,padding=2)\n",
        "\n",
        "    def forward(self, x):\n",
        "        T,N,_ = x.shape\n",
        "        \n",
        "        #case N=1 remove N axis\n",
        "        x = x[:,0,0]\n",
        "        #now shape is (T)\n",
        "        \n",
        "        alloutput = []\n",
        "        vx = torch.autograd.Variable(torch.Tensor(np.expand_dims(np.expand_dims(x,axis=0),axis=0)).float()) #convolution 1D expects a 3D tensor N x 1 x T\n",
        "        output = self.output1(vx)\n",
        "        for t in range(T):\n",
        "            alloutput.append(output[:,:,t])\n",
        "            \n",
        "        return alloutput\n",
        "\n",
        "    def forwardnp(self,x):\n",
        "        T,N,_ = x.shape\n",
        "        \n",
        "        alloutput = self.forward(x)\n",
        "        \n",
        "        npprob = np.zeros((T,N,3),dtype=float)\n",
        "        for t in range(T): \n",
        "            npprob[t] = alloutput[t].cpu().data.numpy()\n",
        "        \n",
        "        pred = np.argmax(npprob,axis=2)\n",
        "        return pred,npprob\n",
        "\n",
        "model = Net()\n",
        "model.train()\n",
        "\n"
      ],
      "execution_count": 4,
      "outputs": [
        {
          "output_type": "execute_result",
          "data": {
            "text/plain": [
              "Net(\n",
              "  (output1): Conv1d(1, 3, kernel_size=(5,), stride=(1,), padding=(2,))\n",
              ")"
            ]
          },
          "metadata": {
            "tags": []
          },
          "execution_count": 4
        }
      ]
    },
    {
      "metadata": {
        "id": "Tb4zLxtm3Kp1",
        "colab_type": "text"
      },
      "cell_type": "markdown",
      "source": [
        "l'apprentissage et les paramètres associés"
      ]
    },
    {
      "metadata": {
        "id": "H-vzcjZj3P_w",
        "colab_type": "code",
        "outputId": "29216c8d-01c7-429c-c250-62c9519ff759",
        "colab": {
          "base_uri": "https://localhost:8080/",
          "height": 519
        }
      },
      "cell_type": "code",
      "source": [
        "lr = 0.00001\n",
        "momentum = 0.5\n",
        "optimizer = optim.SGD(model.parameters(), lr=lr, momentum=momentum)\n",
        "losslayer = nn.CrossEntropyLoss()\n",
        "\n",
        "from IPython.display import clear_output # command to clear the figures\n",
        "from time import sleep\n",
        "\n",
        "allprints = []\n",
        "nbepoch = 200\n",
        "for epoch in range(nbepoch):\n",
        "    x,y=generateSample()\n",
        "    \n",
        "    alloutput = model(x)\n",
        "\n",
        "    npprob = np.zeros((T,N,3),dtype=float)\n",
        "    for t in range(T): \n",
        "        npprob[t] = alloutput[t].cpu().data.numpy()\n",
        "    z = np.argmax(npprob,axis=2)\n",
        "\n",
        "    allloss = []\n",
        "    for t in range(T):\n",
        "        targett = torch.autograd.Variable(torch.from_numpy(y[t]).long())\n",
        "        losst = losslayer(alloutput[t], targett)\n",
        "        allloss.append(losst)\n",
        "\n",
        "    loss = sum(allloss)\n",
        "    optimizer.zero_grad()\n",
        "    loss.backward()\n",
        "    optimizer.step()\n",
        "\n",
        "    if epoch%8==0:\n",
        "        #show how it learn\n",
        "        nberror = (np.transpose(np.nonzero(y-z))).shape[0]\n",
        "        allprints.append((\"error=\",nberror,\"\\toptimisation loss=\", loss.cpu().data.numpy()))\n",
        "        visu = visualizecurve(x[:,:,0],y,z)\n",
        "        clear_output()\n",
        "        plt.imshow(visu)\n",
        "        plt.show()\n",
        "        for a,b,c,d in allprints:\n",
        "            print(a,b,c,d)\n",
        "        sleep(1)\n",
        " \n"
      ],
      "execution_count": 5,
      "outputs": [
        {
          "output_type": "display_data",
          "data": {
            "image/png": "[encoded data removed]",
            "text/plain": [
              "<Figure size 432x288 with 1 Axes>"
            ]
          },
          "metadata": {
            "tags": []
          }
        },
        {
          "output_type": "stream",
          "text": [
            "error= 275 \toptimisation loss= 2559.6758\n",
            "error= 219 \toptimisation loss= 699.8359\n",
            "error= 286 \toptimisation loss= 1036.9371\n",
            "error= 214 \toptimisation loss= 903.4503\n",
            "error= 255 \toptimisation loss= 622.9668\n",
            "error= 201 \toptimisation loss= 945.31146\n",
            "error= 265 \toptimisation loss= 735.94794\n",
            "error= 257 \toptimisation loss= 444.28656\n",
            "error= 306 \toptimisation loss= 848.708\n",
            "error= 225 \toptimisation loss= 461.17783\n",
            "error= 232 \toptimisation loss= 645.9635\n",
            "error= 284 \toptimisation loss= 931.4159\n",
            "error= 162 \toptimisation loss= 1190.6204\n",
            "error= 262 \toptimisation loss= 541.44696\n",
            "error= 239 \toptimisation loss= 884.6583\n",
            "error= 237 \toptimisation loss= 751.38556\n",
            "error= 285 \toptimisation loss= 1053.1611\n",
            "error= 301 \toptimisation loss= 833.0054\n",
            "error= 239 \toptimisation loss= 410.5773\n",
            "error= 218 \toptimisation loss= 416.60266\n",
            "error= 273 \toptimisation loss= 898.7608\n",
            "error= 228 \toptimisation loss= 432.34335\n",
            "error= 239 \toptimisation loss= 536.7355\n",
            "error= 248 \toptimisation loss= 452.38788\n",
            "error= 318 \toptimisation loss= 527.23804\n"
          ],
          "name": "stdout"
        }
      ]
    }
  ]
}
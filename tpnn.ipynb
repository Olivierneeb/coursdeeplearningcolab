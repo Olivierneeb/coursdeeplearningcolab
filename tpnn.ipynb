{
  "nbformat": 4,
  "nbformat_minor": 0,
  "metadata": {
    "colab": {
      "name": "Untitled0.ipynb",
      "version": "0.3.2",
      "provenance": [],
      "include_colab_link": true
    },
    "kernelspec": {
      "name": "python3",
      "display_name": "Python 3"
    }
  },
  "cells": [
    {
      "cell_type": "markdown",
      "metadata": {
        "id": "view-in-github",
        "colab_type": "text"
      },
      "source": [
        "<a href=\"https://colab.research.google.com/github/achanhon/coursdeeplearningcolab/blob/master/tpnn.ipynb\" target=\"_parent\"><img src=\"https://colab.research.google.com/assets/colab-badge.svg\" alt=\"Open In Colab\"/></a>"
      ]
    },
    {
      "cell_type": "markdown",
      "metadata": {
        "id": "wiLsAyIhStUn",
        "colab_type": "text"
      },
      "source": [
        "# TP réseau de neurones\n",
        "\n",
        "### Objectif\n",
        "L'objectif de ce tp est de se familiariser avec la paradigme essentielle de l'apprentissage par ordinateur : une base d'apprentissage pour apprendre et une base de test pour évaluer.\n",
        "\n",
        "### Demarche\n",
        "La demarche repose principalement sur la recherche de jeux de données apprentissage et test sur lesquels un algorithme fixé a un comportement demandé.\n",
        "\n",
        "Indépendamment, l'ensemble du code étant modifiable, il invite à être modifié (l'algorithme principal peut notamment être remplacé par un plus proche voisin) pour explorer différemment ces notions. De plus la selection de la répartition train/test peut être faites aléatoirement à partir d'une distribution fixe.\n",
        "\n",
        "### À noter\n",
        "À noter qu'une version beaucoup plus \"cool\" peut être trouvé ici : https://playground.tensorflow.org avec le désavantage de mettre l'accent sur le réseau et non sur les données comme c'est l'objectif ici.\n",
        "\n",
        "Néanmoins, compte tenu de la qualité de cette application (n'est pas google qui veut), le tp peut +/- être fait sur ce site plutôt que dans ce notebook."
      ]
    },
    {
      "cell_type": "markdown",
      "metadata": {
        "id": "k1SZHHMEIDZZ",
        "colab_type": "text"
      },
      "source": [
        "## La boite noire\n",
        "\n",
        "L'ensemble des fonctions ci dessous n'est pas voué à être comprise/modifié en première lecture.\n",
        "Cela implémente une fonction qui étant donnée une base d'apprentissage et une base de test, réalise une apprentissage et une évaluation."
      ]
    },
    {
      "cell_type": "code",
      "metadata": {
        "id": "hGthUy4HS2ju",
        "colab_type": "code",
        "colab": {}
      },
      "source": [
        "from __future__ import print_function\n",
        "\n",
        "import numpy as np\n",
        "\n",
        "import torch\n",
        "import torch.nn as nn\n",
        "import torch.nn.functional as F\n",
        "import torch.optim as optim\n",
        "import torch.autograd\n",
        "import torch.autograd.variable\n",
        "\n",
        "from matplotlib import pyplot as plt\n",
        "from matplotlib import animation\n",
        "from IPython.display import clear_output\n",
        "from time import sleep\n",
        "\n",
        "def visualize_current_model_behaviour(trainingdata,testingdata,model):\n",
        "    data = {}\n",
        "    data[\"train\"] = trainingdata\n",
        "    data[\"test\"] = testingdata\n",
        "    \n",
        "    grid = {}\n",
        "    grid[\"train\"] = np.ones((50,50,3),dtype=int)\n",
        "    grid[\"test\"] = np.ones((50,50,3),dtype=int)\n",
        "    for traintest in [\"train\",\"test\"]:\n",
        "        X,Y = data[traintest]\n",
        "        for i in range(X.shape[0]):\n",
        "            row,col = X[i][0],X[i][1]\n",
        "            if Y[i]==1:\n",
        "                grid[traintest][row][col][0]=0\n",
        "                grid[traintest][row][col][2]=0\n",
        "            else:\n",
        "                grid[traintest][row][col][0]=0\n",
        "                grid[traintest][row][col][1]=0\n",
        "    \n",
        "    grid[\"alldata\"] = grid[\"train\"]*grid[\"test\"]\n",
        "    \n",
        "    batch = np.zeros((50*50,2),dtype=float)\n",
        "    for row in range(50):\n",
        "        for col in range(50):\n",
        "            batch[row*50+col][0]=row\n",
        "            batch[row*50+col][1]=col\n",
        "    prediction = model.getPredictedClass(batch)\n",
        "    \n",
        "    \n",
        "    grid[\"pred\"] = np.ones((50,50,3),dtype=int)*255\n",
        "    for row in range(50):\n",
        "        for col in range(50):\n",
        "            if prediction[row*50+col] == 1:\n",
        "                grid[\"pred\"][row][col][0]=175\n",
        "                grid[\"pred\"][row][col][2]=175\n",
        "            else:\n",
        "                grid[\"pred\"][row][col][0]=175\n",
        "                grid[\"pred\"][row][col][1]=175\n",
        "    \n",
        "    grid[\"train_error\"] = np.ones((50,50,3),dtype=int)*255\n",
        "    grid[\"test_error\"] = np.ones((50,50,3),dtype=int)*255\n",
        "    for traintest in [\"train\",\"test\"]:\n",
        "        X,Y = data[traintest]\n",
        "        for i in range(X.shape[0]):\n",
        "            row,col = X[i][0],X[i][1]\n",
        "            if prediction[row*50+col] != Y[i]:\n",
        "                grid[traintest+\"_error\"][row][col][1]=0\n",
        "                grid[traintest+\"_error\"][row][col][2]=0\n",
        "    \n",
        "    for key in grid:\n",
        "        grid[key][0,:,:]=0\n",
        "        grid[key][49,:,:]=0\n",
        "        grid[key][:,0,:]=0\n",
        "        grid[key][0,49,:]=0\n",
        "    \n",
        "    tmp = np.concatenate((grid[\"alldata\"]*255,grid[\"train\"]*255,grid[\"test\"]*255), axis=1)\n",
        "    tmp2 = np.concatenate((grid[\"pred\"],grid[\"train_error\"],grid[\"test_error\"]), axis=1)\n",
        "    tmp3 = np.concatenate((tmp,tmp2),axis=0)\n",
        "    return tmp3\n",
        "\n",
        "\n",
        "def train_test_deep_network(trainingdata,testingdata,model,nbIteration):\n",
        "    model.updateweights(trainingdata)\n",
        "\n",
        "    for iteration in range(nbIteration-1):\n",
        "        loss = model.updateweights(trainingdata)\n",
        "        \n",
        "        if iteration%50==0:\n",
        "          visu = visualize_current_model_behaviour(trainingdata,testingdata,model)\n",
        "\n",
        "          clear_output()\n",
        "          plt.imshow(visu)\n",
        "          plt.show()\n",
        "          sleep(3)\n",
        "\n",
        "\n",
        " \n",
        "class Net(nn.Module):\n",
        "    def getPredictedClass(self,x):\n",
        "        variablex = torch.autograd.Variable(torch.Tensor(x.astype(float)))\n",
        "        variableoutput = self.forward(variablex)\n",
        "        prob = variableoutput.cpu().data.numpy()\n",
        "        return np.argmax(prob,axis=1)\n",
        "    \n",
        "    def updateweights(self,batchfromtrain):\n",
        "        x,y = batchfromtrain\n",
        "        variablex = torch.autograd.Variable(torch.Tensor(x.astype(float)))\n",
        "        variabley = torch.autograd.Variable(torch.from_numpy(y).long())\n",
        "        variableoutput = self.forward(variablex)\n",
        "        \n",
        "        loss = self.losslayer(variableoutput,variabley)\n",
        "        self.optimizer.zero_grad()\n",
        "        loss.backward()\n",
        "        self.optimizer.step()        \n",
        "        return loss.cpu().data.numpy()\n",
        "    \n",
        "    def __init__(self):\n",
        "        super(Net, self).__init__()\n",
        "        self.fc1 = nn.Linear(2, 30, bias=True)\n",
        "        self.fc2 = nn.Linear(30, 30, bias=True)\n",
        "        self.fc2bis = nn.Linear(30, 30, bias=True)\n",
        "        self.fc3 = nn.Linear(30, 2, bias=True)\n",
        "        \n",
        "        self.train()\n",
        "        \n",
        "        \n",
        "        self.lr = 0.1\n",
        "        self.momentum = 0.5\n",
        "        self.optimizer = optim.SGD(self.parameters(), lr=self.lr, momentum=self.momentum)\n",
        "        self.losslayer = nn.CrossEntropyLoss()\n",
        "\n",
        "    def forward(self, x):\n",
        "        x = F.leaky_relu(self.fc1(x/30))\n",
        "        x = F.leaky_relu(self.fc2(x))\n",
        "        x = F.leaky_relu(self.fc2bis(x))\n",
        "        x = self.fc3(x)\n",
        "        return x\n",
        "        \n",
        "class NearestNeighbourg:\n",
        "    def getPredictedClass(self,x):\n",
        "        if len(x.shape)==1:        \n",
        "            distances = [(np.sum((x-self.X[i])*(x-self.X[i])),i) for i in range(self.X.shape[0])]\n",
        "            d,argmin = min(distances)\n",
        "            return self.Y[argmin]\n",
        "        else:\n",
        "            y = [self.getPredictedClass(x[i]) for i in range(x.shape[0])]\n",
        "            return np.asarray(y)\n",
        "    \n",
        "    def updateweights(self,x,y):\n",
        "        self.X = x\n",
        "        self.Y = y \n",
        "\n",
        "\n",
        "def data_from_grid_label(gridlabel):\n",
        "    X,Y = [],[]\n",
        "    tmp = np.zeros((1,2),dtype=int)\n",
        "    for row in range(10):\n",
        "        for col in range(10):\n",
        "            tmp[0][0]=row*5+2\n",
        "            tmp[0][1]=col*5+2\n",
        "            if gridlabel[row][col] == '+':\n",
        "                X.append(tmp.copy())\n",
        "                Y.append(1)\n",
        "            if gridlabel[row][col] == '-':\n",
        "                X.append(tmp.copy())\n",
        "                Y.append(0)\n",
        "    return np.concatenate(X,axis=0),np.asarray(Y)"
      ],
      "execution_count": 0,
      "outputs": []
    },
    {
      "cell_type": "code",
      "metadata": {
        "id": "OThTjp_hNR4r",
        "colab_type": "code",
        "colab": {}
      },
      "source": [
        "def observe_network_behaviour_on_griddata(gridlabeltrain,gridlabeltest):\n",
        "    model = Net()\n",
        "    trainingdata,testingdata = data_from_grid_label(gridlabeltrain),data_from_grid_label(gridlabeltest)\n",
        "    train_test_deep_network(trainingdata,testingdata,model,300)"
      ],
      "execution_count": 0,
      "outputs": []
    },
    {
      "cell_type": "markdown",
      "metadata": {
        "id": "OUQcfvqCS62P",
        "colab_type": "text"
      },
      "source": [
        "## Exemples d'apprentissage :\n",
        "\n",
        "Faites tourner les 3 apprentissages ci dessous pour vous familiariser avec le code\n",
        "\n",
        "### CAS 1 : linéaire"
      ]
    },
    {
      "cell_type": "code",
      "metadata": {
        "id": "pI37qd1cVyJD",
        "colab_type": "code",
        "outputId": "dcf6b650-61e4-4eb6-aa9f-28227805543f",
        "colab": {
          "base_uri": "https://localhost:8080/",
          "height": 269
        }
      },
      "source": [
        "train = [\n",
        "['-','-','-','-','-','-','-','-','-','-'],\n",
        "['-','-','-','-','-','-','-','-','-','-'],\n",
        "[' ',' ',' ',' ',' ',' ',' ',' ',' ',' '],\n",
        "[' ',' ',' ',' ',' ',' ',' ',' ',' ',' '],\n",
        "[' ',' ',' ',' ',' ',' ',' ',' ',' ',' '],\n",
        "[' ',' ',' ',' ',' ',' ',' ',' ',' ',' '],\n",
        "[' ',' ',' ',' ',' ',' ',' ',' ',' ',' '],\n",
        "[' ',' ',' ',' ',' ',' ',' ',' ',' ',' '],\n",
        "['+','+','+','+','+','+','+','+','+','+'],\n",
        "['+','+','+','+','+','+','+','+','+','+']]\n",
        "\n",
        "test = [\n",
        "[' ',' ',' ',' ',' ',' ',' ',' ',' ',' '],\n",
        "[' ',' ',' ',' ',' ',' ',' ',' ',' ',' '],\n",
        "[' ',' ',' ',' ',' ',' ',' ',' ',' ',' '],\n",
        "[' ',' ',' ',' ',' ',' ',' ',' ',' ',' '],\n",
        "['-','-','-','-','-','-','-','-','-','-'],\n",
        "['-','-','-','-','-','-','-','-','-','-'],\n",
        "['+','+','+','+','+','+','+','+','+','+'],\n",
        "['+','+','+','+','+','+','+','+','+','+'],\n",
        "[' ',' ',' ',' ',' ',' ',' ',' ',' ',' '],\n",
        "[' ',' ',' ',' ',' ',' ',' ',' ',' ',' ']]\n",
        "\n",
        "observe_network_behaviour_on_griddata(train,test)\n"
      ],
      "execution_count": 3,
      "outputs": [
        {
          "output_type": "display_data",
          "data": {
            "image/png": "[encoded data removed]",
            "text/plain": [
              "<Figure size 432x288 with 1 Axes>"
            ]
          },
          "metadata": {
            "tags": []
          }
        }
      ]
    },
    {
      "cell_type": "markdown",
      "metadata": {
        "id": "H3JpFcI9PzrZ",
        "colab_type": "text"
      },
      "source": [
        "### CAS 2 : cercle"
      ]
    },
    {
      "cell_type": "code",
      "metadata": {
        "id": "R249FrpOP2L6",
        "colab_type": "code",
        "colab": {
          "base_uri": "https://localhost:8080/",
          "height": 269
        },
        "outputId": "e6d91c0e-7d7c-46cf-b700-d725d56de497"
      },
      "source": [
        "train = [\n",
        "[' ',' ',' ',' ',' ','+',' ',' ',' ',' '],\n",
        "[' ',' ',' ','+',' ','+',' ',' ',' ',' '],\n",
        "[' ',' ',' ',' ',' ','-',' ',' ',' ',' '],\n",
        "[' ',' ','+','-',' ',' ','-',' ','+',' '],\n",
        "[' ',' ',' ',' ','-','-',' ',' ',' ',' '],\n",
        "[' ',' ',' ',' ',' ',' ','-',' ','+',' '],\n",
        "[' ',' ',' ','-',' ','-',' ',' ',' ',' '],\n",
        "[' ',' ','+',' ',' ',' ','+',' ',' ',' '],\n",
        "[' ',' ',' ',' ',' ','+',' ',' ',' ',' '],\n",
        "[' ',' ',' ',' ',' ',' ',' ',' ','+',' ']]\n",
        "\n",
        "test = [\n",
        "[' ',' ',' ','+','+',' ',' ','+',' ',' '],\n",
        "[' ',' ',' ','+','+',' ','+',' ',' ',' '],\n",
        "[' ','+','+',' ','-',' ',' ','+',' ',' '],\n",
        "[' ','+',' ',' ','-','-',' ','+',' ',' '],\n",
        "[' ',' ',' ','-',' ',' ',' ',' ',' ',' '],\n",
        "[' ',' ',' ','-','-','-',' ','-',' ',' '],\n",
        "[' ',' ',' ',' ','-',' ','-','-',' ',' '],\n",
        "[' ',' ','+','+','-','+',' ','-',' ',' '],\n",
        "[' ',' ',' ',' ','+','+','+','+',' ',' '],\n",
        "[' ',' ',' ',' ',' ',' ',' ',' ',' ',' ']]\n",
        "\n",
        "observe_network_behaviour_on_griddata(train,test)"
      ],
      "execution_count": 4,
      "outputs": [
        {
          "output_type": "display_data",
          "data": {
            "image/png": "[encoded data removed]",
            "text/plain": [
              "<Figure size 432x288 with 1 Axes>"
            ]
          },
          "metadata": {
            "tags": []
          }
        }
      ]
    },
    {
      "cell_type": "markdown",
      "metadata": {
        "id": "QS5OJE07QFe4",
        "colab_type": "text"
      },
      "source": [
        "CAS 3 : xor"
      ]
    },
    {
      "cell_type": "code",
      "metadata": {
        "id": "LTBBt5bEQHS5",
        "colab_type": "code",
        "colab": {
          "base_uri": "https://localhost:8080/",
          "height": 269
        },
        "outputId": "8553cfed-bc8c-4a43-a51e-13dcb63f5e0c"
      },
      "source": [
        "train = [\n",
        "['-','-',' ',' ',' ','+',' ',' ',' ',' '],\n",
        "[' ',' ',' ','-',' ','+',' ',' ',' ',' '],\n",
        "[' ',' ','-',' ',' ','+',' ',' ',' ',' '],\n",
        "[' ','-','-','-',' ',' ','+',' ','+',' '],\n",
        "[' ',' ',' ',' ','-',' ',' ',' ',' ',' '],\n",
        "[' ',' ',' ','+',' ',' ','-',' ','-',' '],\n",
        "[' ',' ',' ','+','+',' ','-','-','-',' '],\n",
        "[' ',' ','+',' ',' ',' ','-',' ',' ',' '],\n",
        "[' ',' ',' ',' ',' ',' ',' ',' ',' ',' '],\n",
        "['+',' ',' ',' ',' ',' ',' ',' ','-',' ']]\n",
        "\n",
        "test = [\n",
        "['=','=','-',' ','-','=','+',' ','+','+'],\n",
        "[' ',' ',' ','=','-','=','+',' ','+',' '],\n",
        "['-','-','=','-',' ','=','+','+',' ','+'],\n",
        "['-','=','=','=',' ',' ','=',' ','=',' '],\n",
        "[' ','-','-','-','=',' ',' ',' ',' ',' '],\n",
        "[' ',' ','+','=','+','-','=',' ','=',' '],\n",
        "['+','+',' ','=','=','-','=','=','=',' '],\n",
        "[' ','+','=',' ',' ','-','=',' ','-',' '],\n",
        "[' ','+','+',' ',' ',' ','-',' ','-','-'],\n",
        "['=',' ',' ',' ',' ',' ',' ',' ','=',' ']]\n",
        "\n",
        "observe_network_behaviour_on_griddata(train,test)  "
      ],
      "execution_count": 5,
      "outputs": [
        {
          "output_type": "display_data",
          "data": {
            "image/png": "[encoded data removed]",
            "text/plain": [
              "<Figure size 432x288 with 1 Axes>"
            ]
          },
          "metadata": {
            "tags": []
          }
        }
      ]
    }
  ]
}
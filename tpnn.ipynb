{
  "nbformat": 4,
  "nbformat_minor": 0,
  "metadata": {
    "colab": {
      "name": "Untitled0.ipynb",
      "version": "0.3.2",
      "provenance": [],
      "include_colab_link": true
    },
    "kernelspec": {
      "name": "python3",
      "display_name": "Python 3"
    }
  },
  "cells": [
    {
      "cell_type": "markdown",
      "metadata": {
        "id": "view-in-github",
        "colab_type": "text"
      },
      "source": [
        "<a href=\"https://colab.research.google.com/github/achanhon/coursdeeplearningcolab/blob/master/tpnn.ipynb\" target=\"_parent\"><img src=\"https://colab.research.google.com/assets/colab-badge.svg\" alt=\"Open In Colab\"/></a>"
      ]
    },
    {
      "metadata": {
        "id": "wiLsAyIhStUn",
        "colab_type": "text"
      },
      "cell_type": "markdown",
      "source": [
        "TP réseau de neurones\n",
        "\n",
        "la liste des paquets nécessaires au programme"
      ]
    },
    {
      "metadata": {
        "id": "hGthUy4HS2ju",
        "colab_type": "code",
        "colab": {}
      },
      "cell_type": "code",
      "source": [
        "from __future__ import print_function\n",
        "import os\n",
        "import sys\n",
        "\n",
        "import numpy as np\n",
        "\n",
        "import torch\n",
        "import torch.nn as nn\n",
        "import torch.nn.functional as F\n",
        "import torch.optim as optim\n",
        "import torch.autograd\n",
        "import torch.autograd.variable\n",
        "\n",
        "from matplotlib import pyplot as plt"
      ],
      "execution_count": 0,
      "outputs": []
    },
    {
      "metadata": {
        "id": "OUQcfvqCS62P",
        "colab_type": "text"
      },
      "cell_type": "markdown",
      "source": [
        "définition de la fonction objectif : veuillez remarquer que cette fonction est calculable par une réseau de neurones"
      ]
    },
    {
      "metadata": {
        "id": "pI37qd1cVyJD",
        "colab_type": "code",
        "outputId": "062c95c6-cf2c-4b70-c8bf-29415ad6d5e1",
        "colab": {
          "base_uri": "https://localhost:8080/",
          "height": 104
        }
      },
      "cell_type": "code",
      "source": [
        "from matplotlib import animation\n",
        "\n",
        "gridsize = 50\n",
        "\n",
        "class GroundTruth(nn.Module):\n",
        "    def __init__(self):\n",
        "        super(GroundTruth, self).__init__()\n",
        "        self.fc1 = nn.Linear(2, 4, bias=True)\n",
        "        self.fc2 = nn.Linear(4, 1, bias=True)\n",
        "        self.fc3 = nn.Linear(1, 2, bias=True)\n",
        "\n",
        "    def forward(self, x):\n",
        "        x = F.leaky_relu(self.fc1(x))\n",
        "        x = F.leaky_relu(self.fc2(x))\n",
        "        x = self.fc3(x)\n",
        "        return x\n",
        "\n",
        "    def forwardnp(self,x):\n",
        "        variablex = torch.autograd.Variable(torch.Tensor(x.astype(float)))\n",
        "        variableoutput = self.forward(variablex)\n",
        "        return variableoutput.cpu().data.numpy()\n",
        "\n",
        "groundtruth = GroundTruth()\n",
        "groundtruth.fc1.weight.data[0][0] = -1\n",
        "groundtruth.fc1.weight.data[0][1] = 0\n",
        "groundtruth.fc1.bias.data[0] = 10\n",
        "groundtruth.fc1.weight.data[1][0] = 1\n",
        "groundtruth.fc1.weight.data[1][1] = 0\n",
        "groundtruth.fc1.bias.data[1] = -30\n",
        "groundtruth.fc1.weight.data[2][0] = 0\n",
        "groundtruth.fc1.weight.data[2][1] = -1\n",
        "groundtruth.fc1.bias.data[2] = 10\n",
        "groundtruth.fc1.weight.data[3][0] = 0\n",
        "groundtruth.fc1.weight.data[3][1] = 1\n",
        "groundtruth.fc1.bias.data[3] = -30\n",
        "\n",
        "groundtruth.fc2.bias.data[0] = 3\n",
        "groundtruth.fc2.weight.data[0][0] = -0.5\n",
        "groundtruth.fc2.weight.data[0][1] = -0.5\n",
        "groundtruth.fc2.weight.data[0][2] = -0.5\n",
        "groundtruth.fc2.weight.data[0][3] = -0.5\n",
        "\n",
        "groundtruth.fc3.bias.data[0] = -0.5\n",
        "groundtruth.fc3.weight.data[0][0] = 1\n",
        "groundtruth.fc3.weight.data[1] = -groundtruth.fc3.weight.data[0]\n",
        "groundtruth.fc3.bias.data[1] = -groundtruth.fc3.bias.data[0]\n",
        "groundtruth.eval()\n",
        "\n",
        "\n",
        "\n"
      ],
      "execution_count": 2,
      "outputs": [
        {
          "output_type": "execute_result",
          "data": {
            "text/plain": [
              "GroundTruth(\n",
              "  (fc1): Linear(in_features=2, out_features=4, bias=True)\n",
              "  (fc2): Linear(in_features=4, out_features=1, bias=True)\n",
              "  (fc3): Linear(in_features=1, out_features=2, bias=True)\n",
              ")"
            ]
          },
          "metadata": {
            "tags": []
          },
          "execution_count": 2
        }
      ]
    },
    {
      "metadata": {
        "id": "gp88MHnQTXbK",
        "colab_type": "text"
      },
      "cell_type": "markdown",
      "source": [
        "malheureusement de cette fonction on ne connait qu'un certain nombre d'échantillons"
      ]
    },
    {
      "metadata": {
        "id": "Uj_cta7CTWw-",
        "colab_type": "code",
        "colab": {}
      },
      "cell_type": "code",
      "source": [
        "samples = np.random.randint(0,50, size=(50,2))"
      ],
      "execution_count": 0,
      "outputs": []
    },
    {
      "metadata": {
        "id": "vrTyBA5vTXAl",
        "colab_type": "text"
      },
      "cell_type": "markdown",
      "source": [
        "et, à partir de ces échantillons seulement, on veut estimer la fonction (ce qui est impossible dans l'absolue mais qui peut marcher en pratique vue que les fonctions qu'on cherche à estimer son *régulière*).\n",
        "Pour cela on définit un réseau :"
      ]
    },
    {
      "metadata": {
        "id": "tIAVxBupTSJk",
        "colab_type": "code",
        "colab": {
          "base_uri": "https://localhost:8080/",
          "height": 121
        },
        "outputId": "ecd99b8b-54bd-46b3-9fe7-94143937594a"
      },
      "cell_type": "code",
      "source": [
        "class Net(nn.Module):\n",
        "    def __init__(self):\n",
        "        super(Net, self).__init__()\n",
        "        self.fc1 = nn.Linear(2, 30, bias=True)\n",
        "        self.fc2 = nn.Linear(30, 30, bias=True)\n",
        "        self.fc2bis = nn.Linear(30, 30, bias=True)\n",
        "        self.fc3 = nn.Linear(30, 2, bias=True)\n",
        "\n",
        "    def forward(self, x):\n",
        "        x = F.leaky_relu(self.fc1(x/30))\n",
        "        x = F.leaky_relu(self.fc2(x))\n",
        "        x = F.leaky_relu(self.fc2bis(x))\n",
        "        x = self.fc3(x)\n",
        "        return x\n",
        "\n",
        "    def forwardnp(self,x):\n",
        "        variablex = torch.autograd.Variable(torch.Tensor(x.astype(float)))\n",
        "        variableoutput = self.forward(variablex)\n",
        "        return variableoutput.cpu().data.numpy()\n",
        "\n",
        "model = Net()\n",
        "model.train()\n"
      ],
      "execution_count": 4,
      "outputs": [
        {
          "output_type": "execute_result",
          "data": {
            "text/plain": [
              "Net(\n",
              "  (fc1): Linear(in_features=2, out_features=30, bias=True)\n",
              "  (fc2): Linear(in_features=30, out_features=30, bias=True)\n",
              "  (fc2bis): Linear(in_features=30, out_features=30, bias=True)\n",
              "  (fc3): Linear(in_features=30, out_features=2, bias=True)\n",
              ")"
            ]
          },
          "metadata": {
            "tags": []
          },
          "execution_count": 4
        }
      ]
    },
    {
      "metadata": {
        "id": "_tAZm4eeTRl0",
        "colab_type": "text"
      },
      "cell_type": "markdown",
      "source": [
        "et on va apprendre sur les échantillons\n",
        "\n",
        "ici juste quelques fonctions d'affichage "
      ]
    },
    {
      "metadata": {
        "id": "bN55wILyUCHL",
        "colab_type": "code",
        "colab": {}
      },
      "cell_type": "code",
      "source": [
        "def visualizemodel(model,visufond,visusample):\n",
        "    grid = np.zeros((gridsize,gridsize,3),dtype=int)\n",
        "    grid[:]=255\n",
        "\n",
        "    batch = np.zeros((gridsize*gridsize,2),dtype=int)\n",
        "    for row in range(gridsize):\n",
        "        for col in range(gridsize):\n",
        "            batch[row*gridsize+col][0]=row\n",
        "            batch[row*gridsize+col][1]=col\n",
        "\n",
        "    prob = model.forwardnp(batch)\n",
        "    pred = np.argmax(prob,axis=1)\n",
        "\n",
        "    if visufond:\n",
        "        grid[:,:,0]=175\n",
        "        for row in range(gridsize):\n",
        "            for col in range(gridsize):\n",
        "                if pred[row*gridsize+col]==1:\n",
        "                    grid[row][col][1] = 175\n",
        "                else:\n",
        "                    grid[row][col][2] = 175\n",
        "\n",
        "    if visusample:\n",
        "        for row,col in samples:\n",
        "            grid[row][col][0]=0\n",
        "            if pred[row*gridsize+col]==1:\n",
        "                grid[row][col][1] = 0\n",
        "            else:\n",
        "                grid[row][col][2] = 0\n",
        "\n",
        "    return np.uint8(grid),pred\n",
        "\n",
        "def visualizeALL():\n",
        "    gt,gtpred = visualizemodel(groundtruth,True,False)\n",
        "    justsamples,_ = visualizemodel(groundtruth,False,True)\n",
        "    model.eval()\n",
        "    modelout,pred = visualizemodel(model,True,True)\n",
        "    model.train()\n",
        "    \n",
        "    samplemask = np.zeros(gridsize*gridsize,dtype=int)\n",
        "    for row,col in samples:\n",
        "        samplemask[row*gridsize+col] = 1\n",
        "    realerror = np.sum(np.absolute(gtpred-pred))\n",
        "    observederror = np.sum(np.absolute(gtpred-pred)*samplemask)\n",
        "    \n",
        "    return np.concatenate((gt,justsamples,modelout), axis=1),realerror,observederror\n",
        "  "
      ],
      "execution_count": 0,
      "outputs": []
    },
    {
      "metadata": {
        "id": "enUj8a0rUW2g",
        "colab_type": "text"
      },
      "cell_type": "markdown",
      "source": [
        "les paramètres de l'apprentissage"
      ]
    },
    {
      "metadata": {
        "id": "kIxR_avk8hVM",
        "colab_type": "code",
        "colab": {}
      },
      "cell_type": "code",
      "source": [
        "lr = 0.1\n",
        "momentum = 0.5\n",
        "optimizer = optim.SGD(model.parameters(), lr=lr, momentum=momentum)\n",
        "losslayer = nn.CrossEntropyLoss()\n",
        "nbepoch = 200"
      ],
      "execution_count": 0,
      "outputs": []
    },
    {
      "metadata": {
        "id": "Rml7pp2SUbr2",
        "colab_type": "text"
      },
      "cell_type": "markdown",
      "source": [
        "l'apprentissage"
      ]
    },
    {
      "metadata": {
        "id": "CRvyY5yRRJGw",
        "colab_type": "code",
        "colab": {
          "base_uri": "https://localhost:8080/",
          "height": 1669
        },
        "outputId": "dee8db84-773b-4505-8cbd-6d374d260a9c"
      },
      "cell_type": "code",
      "source": [
        "from IPython.display import clear_output # command to clear the figures\n",
        "from time import sleep\n",
        "\n",
        "allprints = []\n",
        "for epoch in range(nbepoch):\n",
        "    batch = torch.autograd.Variable(torch.Tensor(samples.astype(float)).float())\n",
        "    target = torch.autograd.Variable(torch.from_numpy(np.argmax(groundtruth.forwardnp(samples),axis=1)).long())\n",
        "\n",
        "    optimizer.zero_grad()\n",
        "    output = model(batch)\n",
        "\n",
        "    loss = losslayer(output, target)\n",
        "    loss.backward()\n",
        "    optimizer.step()\n",
        "    \n",
        "    \n",
        "    grid,realerror,observederror = visualizeALL()\n",
        "    allprints.append((\"real error=\",realerror,\"\\tobserved error on samples=\", observederror, \"\\toptimisation loss=\", loss.cpu().data.numpy()))\n",
        "    \n",
        "    if epoch%5==0:\n",
        "        clear_output()\n",
        "        for a,b,c,d,e,f in allprints:\n",
        "            print(a,b,c,d,e,f)\n",
        "        plt.imshow(grid)\n",
        "        plt.show()"
      ],
      "execution_count": 7,
      "outputs": [
        {
          "output_type": "stream",
          "text": [
            "real error= 901 \tobserved error on samples= 22 \toptimisation loss= 0.6847686\n",
            "real error= 901 \tobserved error on samples= 22 \toptimisation loss= 0.6828098\n",
            "real error= 901 \tobserved error on samples= 22 \toptimisation loss= 0.6802553\n",
            "real error= 901 \tobserved error on samples= 22 \toptimisation loss= 0.6777603\n",
            "real error= 901 \tobserved error on samples= 22 \toptimisation loss= 0.67554224\n",
            "real error= 901 \tobserved error on samples= 22 \toptimisation loss= 0.6736194\n",
            "real error= 901 \tobserved error on samples= 22 \toptimisation loss= 0.67194176\n",
            "real error= 901 \tobserved error on samples= 22 \toptimisation loss= 0.67041963\n",
            "real error= 901 \tobserved error on samples= 22 \toptimisation loss= 0.66895974\n",
            "real error= 901 \tobserved error on samples= 22 \toptimisation loss= 0.6675369\n",
            "real error= 901 \tobserved error on samples= 22 \toptimisation loss= 0.666126\n",
            "real error= 901 \tobserved error on samples= 22 \toptimisation loss= 0.6646672\n",
            "real error= 901 \tobserved error on samples= 22 \toptimisation loss= 0.6631269\n",
            "real error= 901 \tobserved error on samples= 22 \toptimisation loss= 0.6614716\n",
            "real error= 901 \tobserved error on samples= 22 \toptimisation loss= 0.6596623\n",
            "real error= 901 \tobserved error on samples= 22 \toptimisation loss= 0.65772456\n",
            "real error= 901 \tobserved error on samples= 22 \toptimisation loss= 0.6556508\n",
            "real error= 901 \tobserved error on samples= 22 \toptimisation loss= 0.65339804\n",
            "real error= 901 \tobserved error on samples= 22 \toptimisation loss= 0.6509715\n",
            "real error= 901 \tobserved error on samples= 22 \toptimisation loss= 0.6482918\n",
            "real error= 901 \tobserved error on samples= 22 \toptimisation loss= 0.6453084\n",
            "real error= 901 \tobserved error on samples= 22 \toptimisation loss= 0.64222556\n",
            "real error= 901 \tobserved error on samples= 22 \toptimisation loss= 0.6390902\n",
            "real error= 901 \tobserved error on samples= 22 \toptimisation loss= 0.63591623\n",
            "real error= 901 \tobserved error on samples= 22 \toptimisation loss= 0.6327052\n",
            "real error= 901 \tobserved error on samples= 22 \toptimisation loss= 0.6294558\n",
            "real error= 924 \tobserved error on samples= 22 \toptimisation loss= 0.6261833\n",
            "real error= 972 \tobserved error on samples= 23 \toptimisation loss= 0.62285787\n",
            "real error= 956 \tobserved error on samples= 22 \toptimisation loss= 0.61946505\n",
            "real error= 942 \tobserved error on samples= 22 \toptimisation loss= 0.6159997\n",
            "real error= 930 \tobserved error on samples= 19 \toptimisation loss= 0.61244357\n",
            "real error= 922 \tobserved error on samples= 20 \toptimisation loss= 0.60879874\n",
            "real error= 916 \tobserved error on samples= 19 \toptimisation loss= 0.60505056\n",
            "real error= 908 \tobserved error on samples= 19 \toptimisation loss= 0.6011796\n",
            "real error= 901 \tobserved error on samples= 18 \toptimisation loss= 0.5971589\n",
            "real error= 895 \tobserved error on samples= 18 \toptimisation loss= 0.5930324\n",
            "real error= 888 \tobserved error on samples= 18 \toptimisation loss= 0.5888517\n",
            "real error= 884 \tobserved error on samples= 17 \toptimisation loss= 0.58458406\n",
            "real error= 877 \tobserved error on samples= 17 \toptimisation loss= 0.58021885\n",
            "real error= 874 \tobserved error on samples= 16 \toptimisation loss= 0.5757253\n",
            "real error= 869 \tobserved error on samples= 16 \toptimisation loss= 0.57119083\n",
            "real error= 861 \tobserved error on samples= 16 \toptimisation loss= 0.5666607\n",
            "real error= 865 \tobserved error on samples= 17 \toptimisation loss= 0.56212294\n",
            "real error= 859 \tobserved error on samples= 17 \toptimisation loss= 0.55767155\n",
            "real error= 853 \tobserved error on samples= 16 \toptimisation loss= 0.5532439\n",
            "real error= 853 \tobserved error on samples= 15 \toptimisation loss= 0.5489317\n",
            "real error= 852 \tobserved error on samples= 15 \toptimisation loss= 0.54470193\n",
            "real error= 846 \tobserved error on samples= 14 \toptimisation loss= 0.54055285\n",
            "real error= 846 \tobserved error on samples= 12 \toptimisation loss= 0.5365047\n",
            "real error= 841 \tobserved error on samples= 12 \toptimisation loss= 0.53251576\n",
            "real error= 841 \tobserved error on samples= 12 \toptimisation loss= 0.52863234\n",
            "real error= 837 \tobserved error on samples= 12 \toptimisation loss= 0.5247919\n",
            "real error= 834 \tobserved error on samples= 12 \toptimisation loss= 0.5209623\n",
            "real error= 836 \tobserved error on samples= 12 \toptimisation loss= 0.5171304\n",
            "real error= 834 \tobserved error on samples= 12 \toptimisation loss= 0.5133463\n",
            "real error= 832 \tobserved error on samples= 12 \toptimisation loss= 0.5095913\n",
            "real error= 830 \tobserved error on samples= 12 \toptimisation loss= 0.5059266\n",
            "real error= 827 \tobserved error on samples= 12 \toptimisation loss= 0.5022949\n",
            "real error= 825 \tobserved error on samples= 12 \toptimisation loss= 0.49870205\n",
            "real error= 826 \tobserved error on samples= 12 \toptimisation loss= 0.4950943\n",
            "real error= 827 \tobserved error on samples= 12 \toptimisation loss= 0.49155176\n",
            "real error= 828 \tobserved error on samples= 12 \toptimisation loss= 0.48807415\n",
            "real error= 826 \tobserved error on samples= 12 \toptimisation loss= 0.48454335\n",
            "real error= 826 \tobserved error on samples= 12 \toptimisation loss= 0.48110092\n",
            "real error= 824 \tobserved error on samples= 12 \toptimisation loss= 0.4777129\n",
            "real error= 823 \tobserved error on samples= 12 \toptimisation loss= 0.4744353\n",
            "real error= 820 \tobserved error on samples= 12 \toptimisation loss= 0.47119722\n",
            "real error= 817 \tobserved error on samples= 12 \toptimisation loss= 0.46793708\n",
            "real error= 816 \tobserved error on samples= 12 \toptimisation loss= 0.4646711\n",
            "real error= 814 \tobserved error on samples= 12 \toptimisation loss= 0.46136162\n",
            "real error= 813 \tobserved error on samples= 12 \toptimisation loss= 0.4580409\n",
            "real error= 813 \tobserved error on samples= 12 \toptimisation loss= 0.4546586\n",
            "real error= 812 \tobserved error on samples= 10 \toptimisation loss= 0.45118922\n",
            "real error= 806 \tobserved error on samples= 10 \toptimisation loss= 0.44762874\n"
          ],
          "name": "stdout"
        },
        {
          "output_type": "display_data",
          "data": {
            "image/png": "[encoded data removed]",
            "text/plain": [
              "<Figure size 576x396 with 1 Axes>"
            ]
          },
          "metadata": {
            "tags": []
          }
        },
        {
          "output_type": "error",
          "ename": "KeyboardInterrupt",
          "evalue": "ignored",
          "traceback": [
            "\u001b[0;31m---------------------------------------------------------------------------\u001b[0m",
            "\u001b[0;31mKeyboardInterrupt\u001b[0m                         Traceback (most recent call last)",
            "\u001b[0;32m<ipython-input-7-a2b7da1f0103>\u001b[0m in \u001b[0;36m<module>\u001b[0;34m()\u001b[0m\n\u001b[1;32m     23\u001b[0m     \u001b[0mplt\u001b[0m\u001b[0;34m.\u001b[0m\u001b[0mimshow\u001b[0m\u001b[0;34m(\u001b[0m\u001b[0mgrid\u001b[0m\u001b[0;34m)\u001b[0m\u001b[0;34m\u001b[0m\u001b[0;34m\u001b[0m\u001b[0m\n\u001b[1;32m     24\u001b[0m     \u001b[0mplt\u001b[0m\u001b[0;34m.\u001b[0m\u001b[0mshow\u001b[0m\u001b[0;34m(\u001b[0m\u001b[0;34m)\u001b[0m\u001b[0;34m\u001b[0m\u001b[0;34m\u001b[0m\u001b[0m\n\u001b[0;32m---> 25\u001b[0;31m     \u001b[0msleep\u001b[0m\u001b[0;34m(\u001b[0m\u001b[0;36m1\u001b[0m\u001b[0;34m)\u001b[0m\u001b[0;34m\u001b[0m\u001b[0;34m\u001b[0m\u001b[0m\n\u001b[0m",
            "\u001b[0;31mKeyboardInterrupt\u001b[0m: "
          ]
        }
      ]
    }
  ]
}